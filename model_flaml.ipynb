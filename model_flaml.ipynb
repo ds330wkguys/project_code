{
  "cells": [
    {
      "cell_type": "markdown",
      "metadata": {
        "id": "nm6AjHyRZcbU"
      },
      "source": [
        "## **FLAML AutoML Time Series Forecasting Model**"
      ]
    },
    {
      "cell_type": "markdown",
      "metadata": {
        "id": "kwx9e1xLonpU"
      },
      "source": [
        "# **Installation**"
      ]
    },
    {
      "cell_type": "markdown",
      "source": [
        "Installing flaml for time series forecasting"
      ],
      "metadata": {
        "id": "W7OjVz9wytUQ"
      }
    },
    {
      "cell_type": "code",
      "execution_count": null,
      "metadata": {
        "colab": {
          "base_uri": "https://localhost:8080/"
        },
        "id": "r6lRoMX7NEAs",
        "outputId": "5b7a3a74-1d0f-48a2-aacd-e5b317c941aa"
      },
      "outputs": [
        {
          "output_type": "stream",
          "name": "stdout",
          "text": [
            "Looking in indexes: https://pypi.org/simple, https://us-python.pkg.dev/colab-wheels/public/simple/\n",
            "Requirement already satisfied: flaml[ts_forecast] in /usr/local/lib/python3.7/dist-packages (1.0.13)\n",
            "Requirement already satisfied: scipy>=1.4.1 in /usr/local/lib/python3.7/dist-packages (from flaml[ts_forecast]) (1.7.3)\n",
            "Requirement already satisfied: xgboost>=0.90 in /usr/local/lib/python3.7/dist-packages (from flaml[ts_forecast]) (0.90)\n",
            "Requirement already satisfied: NumPy>=1.17.0rc1 in /usr/local/lib/python3.7/dist-packages (from flaml[ts_forecast]) (1.21.6)\n",
            "Requirement already satisfied: pandas>=1.1.4 in /usr/local/lib/python3.7/dist-packages (from flaml[ts_forecast]) (1.3.5)\n",
            "Requirement already satisfied: lightgbm>=2.3.1 in /usr/local/lib/python3.7/dist-packages (from flaml[ts_forecast]) (3.3.3)\n",
            "Requirement already satisfied: scikit-learn>=0.24 in /usr/local/lib/python3.7/dist-packages (from flaml[ts_forecast]) (1.0.2)\n",
            "Requirement already satisfied: prophet>=1.0.1 in /usr/local/lib/python3.7/dist-packages (from flaml[ts_forecast]) (1.1)\n",
            "Requirement already satisfied: holidays<0.14 in /usr/local/lib/python3.7/dist-packages (from flaml[ts_forecast]) (0.13)\n",
            "Requirement already satisfied: hcrystalball==0.1.10 in /usr/local/lib/python3.7/dist-packages (from flaml[ts_forecast]) (0.1.10)\n",
            "Requirement already satisfied: statsmodels>=0.12.2 in /usr/local/lib/python3.7/dist-packages (from flaml[ts_forecast]) (0.12.2)\n",
            "Requirement already satisfied: matplotlib in /usr/local/lib/python3.7/dist-packages (from hcrystalball==0.1.10->flaml[ts_forecast]) (3.2.2)\n",
            "Requirement already satisfied: workalendar>=10.1 in /usr/local/lib/python3.7/dist-packages (from hcrystalball==0.1.10->flaml[ts_forecast]) (16.4.0)\n",
            "Requirement already satisfied: korean-lunar-calendar in /usr/local/lib/python3.7/dist-packages (from holidays<0.14->flaml[ts_forecast]) (0.3.1)\n",
            "Requirement already satisfied: hijri-converter in /usr/local/lib/python3.7/dist-packages (from holidays<0.14->flaml[ts_forecast]) (2.2.4)\n",
            "Requirement already satisfied: python-dateutil in /usr/local/lib/python3.7/dist-packages (from holidays<0.14->flaml[ts_forecast]) (2.8.2)\n",
            "Requirement already satisfied: convertdate>=2.3.0 in /usr/local/lib/python3.7/dist-packages (from holidays<0.14->flaml[ts_forecast]) (2.4.0)\n",
            "Requirement already satisfied: pymeeus<=1,>=0.3.13 in /usr/local/lib/python3.7/dist-packages (from convertdate>=2.3.0->holidays<0.14->flaml[ts_forecast]) (0.5.11)\n",
            "Requirement already satisfied: wheel in /usr/local/lib/python3.7/dist-packages (from lightgbm>=2.3.1->flaml[ts_forecast]) (0.37.1)\n",
            "Requirement already satisfied: pytz>=2017.3 in /usr/local/lib/python3.7/dist-packages (from pandas>=1.1.4->flaml[ts_forecast]) (2022.4)\n",
            "Requirement already satisfied: Cython>=0.22 in /usr/local/lib/python3.7/dist-packages (from prophet>=1.0.1->flaml[ts_forecast]) (0.29.32)\n",
            "Requirement already satisfied: setuptools>=42 in /usr/local/lib/python3.7/dist-packages (from prophet>=1.0.1->flaml[ts_forecast]) (57.4.0)\n",
            "Requirement already satisfied: tqdm>=4.36.1 in /usr/local/lib/python3.7/dist-packages (from prophet>=1.0.1->flaml[ts_forecast]) (4.64.1)\n",
            "Requirement already satisfied: cmdstanpy>=1.0.1 in /usr/local/lib/python3.7/dist-packages (from prophet>=1.0.1->flaml[ts_forecast]) (1.0.7)\n",
            "Requirement already satisfied: setuptools-git>=1.2 in /usr/local/lib/python3.7/dist-packages (from prophet>=1.0.1->flaml[ts_forecast]) (1.2)\n",
            "Requirement already satisfied: LunarCalendar>=0.0.9 in /usr/local/lib/python3.7/dist-packages (from prophet>=1.0.1->flaml[ts_forecast]) (0.0.9)\n",
            "Requirement already satisfied: ujson in /usr/local/lib/python3.7/dist-packages (from cmdstanpy>=1.0.1->prophet>=1.0.1->flaml[ts_forecast]) (5.5.0)\n",
            "Requirement already satisfied: ephem>=3.7.5.3 in /usr/local/lib/python3.7/dist-packages (from LunarCalendar>=0.0.9->prophet>=1.0.1->flaml[ts_forecast]) (4.1.3)\n",
            "Requirement already satisfied: kiwisolver>=1.0.1 in /usr/local/lib/python3.7/dist-packages (from matplotlib->hcrystalball==0.1.10->flaml[ts_forecast]) (1.4.4)\n",
            "Requirement already satisfied: pyparsing!=2.0.4,!=2.1.2,!=2.1.6,>=2.0.1 in /usr/local/lib/python3.7/dist-packages (from matplotlib->hcrystalball==0.1.10->flaml[ts_forecast]) (3.0.9)\n",
            "Requirement already satisfied: cycler>=0.10 in /usr/local/lib/python3.7/dist-packages (from matplotlib->hcrystalball==0.1.10->flaml[ts_forecast]) (0.11.0)\n",
            "Requirement already satisfied: typing-extensions in /usr/local/lib/python3.7/dist-packages (from kiwisolver>=1.0.1->matplotlib->hcrystalball==0.1.10->flaml[ts_forecast]) (4.1.1)\n",
            "Requirement already satisfied: six>=1.5 in /usr/local/lib/python3.7/dist-packages (from python-dateutil->holidays<0.14->flaml[ts_forecast]) (1.15.0)\n",
            "Requirement already satisfied: joblib>=0.11 in /usr/local/lib/python3.7/dist-packages (from scikit-learn>=0.24->flaml[ts_forecast]) (1.2.0)\n",
            "Requirement already satisfied: threadpoolctl>=2.0.0 in /usr/local/lib/python3.7/dist-packages (from scikit-learn>=0.24->flaml[ts_forecast]) (3.1.0)\n",
            "Requirement already satisfied: patsy>=0.5 in /usr/local/lib/python3.7/dist-packages (from statsmodels>=0.12.2->flaml[ts_forecast]) (0.5.3)\n",
            "Requirement already satisfied: pyluach in /usr/local/lib/python3.7/dist-packages (from workalendar>=10.1->hcrystalball==0.1.10->flaml[ts_forecast]) (2.0.1)\n",
            "Requirement already satisfied: lunardate in /usr/local/lib/python3.7/dist-packages (from workalendar>=10.1->hcrystalball==0.1.10->flaml[ts_forecast]) (0.2.0)\n",
            "Requirement already satisfied: importlib-metadata in /usr/local/lib/python3.7/dist-packages (from workalendar>=10.1->hcrystalball==0.1.10->flaml[ts_forecast]) (4.13.0)\n",
            "Requirement already satisfied: backports.zoneinfo in /usr/local/lib/python3.7/dist-packages (from workalendar>=10.1->hcrystalball==0.1.10->flaml[ts_forecast]) (0.2.1)\n",
            "Requirement already satisfied: zipp>=0.5 in /usr/local/lib/python3.7/dist-packages (from importlib-metadata->workalendar>=10.1->hcrystalball==0.1.10->flaml[ts_forecast]) (3.9.0)\n"
          ]
        }
      ],
      "source": [
        "!pip install \"flaml[ts_forecast]\""
      ]
    },
    {
      "cell_type": "markdown",
      "metadata": {
        "id": "QwpVZhrUobJV"
      },
      "source": [
        "# **Loading Data**"
      ]
    },
    {
      "cell_type": "code",
      "execution_count": null,
      "metadata": {
        "colab": {
          "base_uri": "https://localhost:8080/"
        },
        "id": "RCJXfpiYM_Kk",
        "outputId": "a1d67eb7-e79e-4b4d-ccc8-4b4d009e2f0e"
      },
      "outputs": [
        {
          "output_type": "stream",
          "name": "stdout",
          "text": [
            "Drive already mounted at /content/drive; to attempt to forcibly remount, call drive.mount(\"/content/drive\", force_remount=True).\n"
          ]
        }
      ],
      "source": [
        "from google.colab import drive\n",
        "drive.mount('/content/drive')"
      ]
    },
    {
      "cell_type": "code",
      "execution_count": null,
      "metadata": {
        "colab": {
          "base_uri": "https://localhost:8080/"
        },
        "id": "SChjAHTLNKxm",
        "outputId": "1c98042b-df3c-42f5-c05a-9b1111befb35"
      },
      "outputs": [
        {
          "output_type": "stream",
          "name": "stdout",
          "text": [
            "<class 'pandas.core.frame.DataFrame'>\n",
            "RangeIndex: 3652 entries, 0 to 3651\n",
            "Data columns (total 7 columns):\n",
            " #   Column     Non-Null Count  Dtype         \n",
            "---  ------     --------------  -----         \n",
            " 0   Date       3652 non-null   datetime64[ns]\n",
            " 1   Open       3652 non-null   float64       \n",
            " 2   High       3652 non-null   float64       \n",
            " 3   Low        3652 non-null   float64       \n",
            " 4   Close      3652 non-null   float64       \n",
            " 5   Adj Close  3652 non-null   float64       \n",
            " 6   Volume     3652 non-null   float64       \n",
            "dtypes: datetime64[ns](1), float64(6)\n",
            "memory usage: 199.8 KB\n"
          ]
        }
      ],
      "source": [
        "import pandas as pd\n",
        "\n",
        "\n",
        "df_TSLA = pd.read_csv(\"/content/drive/MyDrive/TSLA/TSLA_daily_price.csv\")    # Read csv from the directory\n",
        "\n",
        "## Interpolation\n",
        "# Make sure there is no missing dates\n",
        "df_TSLA['Date'] = pd.to_datetime(df_TSLA['Date'])\n",
        "df_TSLA = df_TSLA.set_index('Date')    # Changing index for Filling values\n",
        "\n",
        "df_TSLA = df_TSLA.resample('D').first()    # Resampling & Assigning values\n",
        "df_TSLA = df_TSLA.bfill().ffill()\n",
        "\n",
        "df_TSLA.reset_index(inplace=True)    # Resetting the index after filling values\n",
        "\n",
        "df_TSLA.info()"
      ]
    },
    {
      "cell_type": "markdown",
      "metadata": {
        "id": "jr6ocQ2Jo0eF"
      },
      "source": [
        "# **Splitting Data**"
      ]
    },
    {
      "cell_type": "code",
      "source": [
        "num_samples = df_TSLA.shape[0]\n",
        "time_horizon = 500\n",
        "split_idx = num_samples - time_horizon\n",
        "x_test = df_TSLA[split_idx:]\n",
        "y_test = df_TSLA[split_idx:]['Close']\n",
        "train_TSLA = df_TSLA[:split_idx]"
      ],
      "metadata": {
        "id": "ErcpK5XyKdfQ"
      },
      "execution_count": null,
      "outputs": []
    },
    {
      "cell_type": "markdown",
      "metadata": {
        "id": "8oLhp67_piEF"
      },
      "source": [
        "# **Building a Time Series Model**"
      ]
    },
    {
      "cell_type": "code",
      "execution_count": null,
      "metadata": {
        "colab": {
          "base_uri": "https://localhost:8080/"
        },
        "id": "7RwI6bpgU7Tl",
        "outputId": "6d10d7e2-ffcc-4239-e13c-754c634553ff"
      },
      "outputs": [
        {
          "output_type": "stream",
          "name": "stderr",
          "text": [
            "[flaml.automl: 10-22 02:07:06] {2600} INFO - task = ts_forecast\n",
            "INFO:flaml.automl:task = ts_forecast\n",
            "[flaml.automl: 10-22 02:07:06] {2602} INFO - Data split method: time\n",
            "INFO:flaml.automl:Data split method: time\n",
            "[flaml.automl: 10-22 02:07:06] {2605} INFO - Evaluation method: cv\n",
            "INFO:flaml.automl:Evaluation method: cv\n",
            "[flaml.automl: 10-22 02:07:06] {2727} INFO - Minimizing error metric: mape\n",
            "INFO:flaml.automl:Minimizing error metric: mape\n",
            "[flaml.automl: 10-22 02:07:06] {2869} INFO - List of ML learners in AutoML Run: ['lgbm', 'rf', 'xgboost', 'extra_tree', 'xgb_limitdepth', 'prophet', 'arima', 'sarimax']\n",
            "INFO:flaml.automl:List of ML learners in AutoML Run: ['lgbm', 'rf', 'xgboost', 'extra_tree', 'xgb_limitdepth', 'prophet', 'arima', 'sarimax']\n",
            "[flaml.automl: 10-22 02:07:06] {3164} INFO - iteration 0, current learner lgbm\n",
            "INFO:flaml.automl:iteration 0, current learner lgbm\n",
            "[flaml.automl: 10-22 02:07:06] {3298} INFO - Estimated sufficient time budget=1375s. Estimated necessary time budget=1s.\n",
            "INFO:flaml.automl:Estimated sufficient time budget=1375s. Estimated necessary time budget=1s.\n",
            "[flaml.automl: 10-22 02:07:06] {3350} INFO -  at 0.2s,\testimator lgbm's best error=0.4015,\tbest estimator lgbm's best error=0.4015\n",
            "INFO:flaml.automl: at 0.2s,\testimator lgbm's best error=0.4015,\tbest estimator lgbm's best error=0.4015\n",
            "[flaml.automl: 10-22 02:07:06] {3164} INFO - iteration 1, current learner lgbm\n",
            "INFO:flaml.automl:iteration 1, current learner lgbm\n",
            "[flaml.automl: 10-22 02:07:07] {3350} INFO -  at 0.4s,\testimator lgbm's best error=0.3617,\tbest estimator lgbm's best error=0.3617\n",
            "INFO:flaml.automl: at 0.4s,\testimator lgbm's best error=0.3617,\tbest estimator lgbm's best error=0.3617\n",
            "[flaml.automl: 10-22 02:07:07] {3164} INFO - iteration 2, current learner rf\n",
            "INFO:flaml.automl:iteration 2, current learner rf\n",
            "[flaml.automl: 10-22 02:07:08] {3350} INFO -  at 1.5s,\testimator rf's best error=0.2499,\tbest estimator rf's best error=0.2499\n",
            "INFO:flaml.automl: at 1.5s,\testimator rf's best error=0.2499,\tbest estimator rf's best error=0.2499\n",
            "[flaml.automl: 10-22 02:07:08] {3164} INFO - iteration 3, current learner xgboost\n",
            "INFO:flaml.automl:iteration 3, current learner xgboost\n",
            "[flaml.automl: 10-22 02:07:08] {3350} INFO -  at 1.7s,\testimator xgboost's best error=0.7265,\tbest estimator rf's best error=0.2499\n",
            "INFO:flaml.automl: at 1.7s,\testimator xgboost's best error=0.7265,\tbest estimator rf's best error=0.2499\n",
            "[flaml.automl: 10-22 02:07:08] {3164} INFO - iteration 4, current learner extra_tree\n",
            "INFO:flaml.automl:iteration 4, current learner extra_tree\n",
            "[flaml.automl: 10-22 02:07:09] {3350} INFO -  at 2.8s,\testimator extra_tree's best error=0.2304,\tbest estimator extra_tree's best error=0.2304\n",
            "INFO:flaml.automl: at 2.8s,\testimator extra_tree's best error=0.2304,\tbest estimator extra_tree's best error=0.2304\n",
            "[flaml.automl: 10-22 02:07:09] {3164} INFO - iteration 5, current learner xgb_limitdepth\n",
            "INFO:flaml.automl:iteration 5, current learner xgb_limitdepth\n",
            "[flaml.automl: 10-22 02:07:09] {3350} INFO -  at 3.1s,\testimator xgb_limitdepth's best error=0.1938,\tbest estimator xgb_limitdepth's best error=0.1938\n",
            "INFO:flaml.automl: at 3.1s,\testimator xgb_limitdepth's best error=0.1938,\tbest estimator xgb_limitdepth's best error=0.1938\n",
            "[flaml.automl: 10-22 02:07:09] {3164} INFO - iteration 6, current learner prophet\n",
            "INFO:flaml.automl:iteration 6, current learner prophet\n",
            "DEBUG:cmdstanpy:input tempfile: /tmp/tmp5covg7et/o4xhl7fa.json\n",
            "DEBUG:cmdstanpy:input tempfile: /tmp/tmp5covg7et/j8f4nz_v.json\n",
            "DEBUG:cmdstanpy:idx 0\n",
            "DEBUG:cmdstanpy:running CmdStan, num_threads: None\n",
            "DEBUG:cmdstanpy:CmdStan args: ['/usr/local/lib/python3.7/dist-packages/prophet/stan_model/prophet_model.bin', 'random', 'seed=73786', 'data', 'file=/tmp/tmp5covg7et/o4xhl7fa.json', 'init=/tmp/tmp5covg7et/j8f4nz_v.json', 'output', 'file=/tmp/tmppydehrhu/prophet_model-20221022020709.csv', 'method=optimize', 'algorithm=lbfgs', 'iter=10000']\n",
            "02:07:09 - cmdstanpy - INFO - Chain [1] start processing\n",
            "INFO:cmdstanpy:Chain [1] start processing\n",
            "02:07:14 - cmdstanpy - INFO - Chain [1] done processing\n",
            "INFO:cmdstanpy:Chain [1] done processing\n",
            "DEBUG:cmdstanpy:input tempfile: /tmp/tmp5covg7et/13dk48zh.json\n",
            "DEBUG:cmdstanpy:input tempfile: /tmp/tmp5covg7et/6l4opzkg.json\n",
            "DEBUG:cmdstanpy:idx 0\n",
            "DEBUG:cmdstanpy:running CmdStan, num_threads: None\n",
            "DEBUG:cmdstanpy:CmdStan args: ['/usr/local/lib/python3.7/dist-packages/prophet/stan_model/prophet_model.bin', 'random', 'seed=6805', 'data', 'file=/tmp/tmp5covg7et/13dk48zh.json', 'init=/tmp/tmp5covg7et/6l4opzkg.json', 'output', 'file=/tmp/tmpkcllx4ep/prophet_model-20221022020716.csv', 'method=optimize', 'algorithm=lbfgs', 'iter=10000']\n",
            "02:07:16 - cmdstanpy - INFO - Chain [1] start processing\n",
            "INFO:cmdstanpy:Chain [1] start processing\n",
            "02:07:22 - cmdstanpy - INFO - Chain [1] done processing\n",
            "INFO:cmdstanpy:Chain [1] done processing\n",
            "[flaml.automl: 10-22 02:07:23] {3350} INFO -  at 17.2s,\testimator prophet's best error=0.0000,\tbest estimator prophet's best error=0.0000\n",
            "INFO:flaml.automl: at 17.2s,\testimator prophet's best error=0.0000,\tbest estimator prophet's best error=0.0000\n",
            "DEBUG:cmdstanpy:input tempfile: /tmp/tmp5covg7et/ijnpmv8v.json\n",
            "DEBUG:cmdstanpy:input tempfile: /tmp/tmp5covg7et/2_6q2lv7.json\n",
            "DEBUG:cmdstanpy:idx 0\n",
            "DEBUG:cmdstanpy:running CmdStan, num_threads: None\n",
            "DEBUG:cmdstanpy:CmdStan args: ['/usr/local/lib/python3.7/dist-packages/prophet/stan_model/prophet_model.bin', 'random', 'seed=92383', 'data', 'file=/tmp/tmp5covg7et/ijnpmv8v.json', 'init=/tmp/tmp5covg7et/2_6q2lv7.json', 'output', 'file=/tmp/tmpuc6xxvm4/prophet_model-20221022020723.csv', 'method=optimize', 'algorithm=lbfgs', 'iter=10000']\n",
            "02:07:23 - cmdstanpy - INFO - Chain [1] start processing\n",
            "INFO:cmdstanpy:Chain [1] start processing\n",
            "02:07:31 - cmdstanpy - INFO - Chain [1] done processing\n",
            "INFO:cmdstanpy:Chain [1] done processing\n",
            "[flaml.automl: 10-22 02:07:31] {3610} INFO - retrain prophet for 8.0s\n",
            "INFO:flaml.automl:retrain prophet for 8.0s\n",
            "[flaml.automl: 10-22 02:07:31] {3615} INFO - retrained model: <prophet.forecaster.Prophet object at 0x7f71fd09fbd0>\n",
            "INFO:flaml.automl:retrained model: <prophet.forecaster.Prophet object at 0x7f71fd09fbd0>\n",
            "[flaml.automl: 10-22 02:07:31] {2900} INFO - fit succeeded\n",
            "INFO:flaml.automl:fit succeeded\n",
            "[flaml.automl: 10-22 02:07:31] {2902} INFO - Time taken to find the best model: 17.20607018470764\n",
            "INFO:flaml.automl:Time taken to find the best model: 17.20607018470764\n",
            "[flaml.automl: 10-22 02:07:31] {2916} WARNING - Time taken to find the best model is 172% of the provided time budget and not all estimators' hyperparameter search converged. Consider increasing the time budget.\n",
            "WARNING:flaml.automl:Time taken to find the best model is 172% of the provided time budget and not all estimators' hyperparameter search converged. Consider increasing the time budget.\n"
          ]
        }
      ],
      "source": [
        "from flaml import AutoML\n",
        "\n",
        "train_TSLA[\"Date\"] = pd.to_datetime(train_TSLA[\"Date\"])\n",
        "\n",
        "\n",
        "automl = AutoML()\n",
        "settings = {\n",
        "    \"time_budget\": 10,    # Total running time in seconds\n",
        "    \"metric\": 'mape',\n",
        "    \"task\": 'ts_forecast',\n",
        "    'log_file_name': 'Stock_Price.log',\n",
        "    'eval_method': 'auto',\n",
        "    'seed': 636362    # Random Seed\n",
        "}\n",
        "automl.fit(dataframe = train_TSLA,label = 'Close', **settings, period = 180)"
      ]
    },
    {
      "cell_type": "code",
      "source": [
        "y_pred = automl.predict(x_test)    # Prediction using the model\n",
        "\n",
        "import matplotlib.pyplot as plt    # Visualizing\n",
        "\n",
        "#plt.plot(x_test.Date, y_test, label='Actual level')\n",
        "plt.plot(x_test.Date, y_pred, label='FLAML forecast')\n",
        "plt.xlabel('Date')\n",
        "plt.ylabel('Close')\n",
        "plt.legend()"
      ],
      "metadata": {
        "colab": {
          "base_uri": "https://localhost:8080/",
          "height": 297
        },
        "id": "9fgjoP9cNpFa",
        "outputId": "95914a49-8d40-4723-f139-261be68bdc03"
      },
      "execution_count": null,
      "outputs": [
        {
          "output_type": "execute_result",
          "data": {
            "text/plain": [
              "<matplotlib.legend.Legend at 0x7f7200201350>"
            ]
          },
          "metadata": {},
          "execution_count": 102
        },
        {
          "output_type": "display_data",
          "data": {
            "text/plain": [
              "<Figure size 432x288 with 1 Axes>"
            ],
            "image/png": "[encoded data removed]"
          },
          "metadata": {
            "needs_background": "light"
          }
        }
      ]
    }
  ],
  "metadata": {
    "colab": {
      "provenance": [],
      "collapsed_sections": [
        "kwx9e1xLonpU",
        "QwpVZhrUobJV",
        "jr6ocQ2Jo0eF",
        "8oLhp67_piEF"
      ]
    },
    "kernelspec": {
      "display_name": "Python 3",
      "name": "python3"
    },
    "language_info": {
      "name": "python"
    }
  },
  "nbformat": 4,
  "nbformat_minor": 0
}